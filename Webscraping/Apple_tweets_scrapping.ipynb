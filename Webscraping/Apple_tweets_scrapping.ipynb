{
 "cells": [
  {
   "cell_type": "code",
   "execution_count": 1,
   "source": [
    "!pip install snscrape"
   ],
   "outputs": [
    {
     "output_type": "stream",
     "name": "stdout",
     "text": [
      "Collecting snscrape\n",
      "  Downloading snscrape-0.3.4-py3-none-any.whl (35 kB)\n",
      "Requirement already satisfied: requests[socks] in c:\\users\\anirudh saxena\\anaconda3\\lib\\site-packages (from snscrape) (2.25.1)\n",
      "Requirement already satisfied: beautifulsoup4 in c:\\users\\anirudh saxena\\anaconda3\\lib\\site-packages (from snscrape) (4.9.3)\n",
      "Requirement already satisfied: lxml in c:\\users\\anirudh saxena\\anaconda3\\lib\\site-packages (from snscrape) (4.6.3)\n",
      "Requirement already satisfied: soupsieve>1.2 in c:\\users\\anirudh saxena\\anaconda3\\lib\\site-packages (from beautifulsoup4->snscrape) (2.2.1)\n",
      "Requirement already satisfied: idna<3,>=2.5 in c:\\users\\anirudh saxena\\anaconda3\\lib\\site-packages (from requests[socks]->snscrape) (2.10)\n",
      "Requirement already satisfied: urllib3<1.27,>=1.21.1 in c:\\users\\anirudh saxena\\anaconda3\\lib\\site-packages (from requests[socks]->snscrape) (1.26.4)\n",
      "Requirement already satisfied: chardet<5,>=3.0.2 in c:\\users\\anirudh saxena\\anaconda3\\lib\\site-packages (from requests[socks]->snscrape) (4.0.0)\n",
      "Requirement already satisfied: certifi>=2017.4.17 in c:\\users\\anirudh saxena\\anaconda3\\lib\\site-packages (from requests[socks]->snscrape) (2020.12.5)\n",
      "Requirement already satisfied: PySocks!=1.5.7,>=1.5.6 in c:\\users\\anirudh saxena\\anaconda3\\lib\\site-packages (from requests[socks]->snscrape) (1.7.1)\n",
      "Installing collected packages: snscrape\n",
      "Successfully installed snscrape-0.3.4\n"
     ]
    }
   ],
   "metadata": {}
  },
  {
   "cell_type": "code",
   "execution_count": 2,
   "source": [
    "# importing libraries and packages\r\n",
    "import pandas as pd \r\n",
    "import snscrape.modules.twitter as sntwitter"
   ],
   "outputs": [],
   "metadata": {}
  },
  {
   "cell_type": "code",
   "execution_count": 3,
   "source": [
    "# Creating list to append tweet data \r\n",
    "tweet_list = []"
   ],
   "outputs": [],
   "metadata": {}
  },
  {
   "cell_type": "code",
   "execution_count": 8,
   "source": [
    "# Using TwitterSearchScraper to scrape data and append tweets to list\r\n",
    "for i,tweet in enumerate(sntwitter.TwitterSearchScraper('AAPL since:2021-01-01 until:2021-09-20 lang:en').get_items()):\r\n",
    "  if i>8000:\r\n",
    "   break\r\n",
    "  tweet_list.append([tweet.date, tweet.content])"
   ],
   "outputs": [],
   "metadata": {}
  },
  {
   "cell_type": "code",
   "execution_count": 10,
   "source": [
    "# Creating a dataframe from the tweets list above\r\n",
    "tweet_df = pd.DataFrame(tweet_list, columns=['Datetime', 'Text'])"
   ],
   "outputs": [],
   "metadata": {}
  },
  {
   "cell_type": "code",
   "execution_count": 11,
   "source": [
    "tweet_df"
   ],
   "outputs": [
    {
     "output_type": "execute_result",
     "data": {
      "text/html": [
       "<div>\n",
       "<style scoped>\n",
       "    .dataframe tbody tr th:only-of-type {\n",
       "        vertical-align: middle;\n",
       "    }\n",
       "\n",
       "    .dataframe tbody tr th {\n",
       "        vertical-align: top;\n",
       "    }\n",
       "\n",
       "    .dataframe thead th {\n",
       "        text-align: right;\n",
       "    }\n",
       "</style>\n",
       "<table border=\"1\" class=\"dataframe\">\n",
       "  <thead>\n",
       "    <tr style=\"text-align: right;\">\n",
       "      <th></th>\n",
       "      <th>Datetime</th>\n",
       "      <th>Text</th>\n",
       "    </tr>\n",
       "  </thead>\n",
       "  <tbody>\n",
       "    <tr>\n",
       "      <th>0</th>\n",
       "      <td>2021-09-19 23:59:31+00:00</td>\n",
       "      <td>$ETSY One of the stronger names over the past ...</td>\n",
       "    </tr>\n",
       "    <tr>\n",
       "      <th>1</th>\n",
       "      <td>2021-09-19 23:58:38+00:00</td>\n",
       "      <td>@rhemrajani9 @Investing_Lion $AAPL, $SE, $PANW...</td>\n",
       "    </tr>\n",
       "    <tr>\n",
       "      <th>2</th>\n",
       "      <td>2021-09-19 23:57:21+00:00</td>\n",
       "      <td>$TSLA Getting close to another test at 765 res...</td>\n",
       "    </tr>\n",
       "    <tr>\n",
       "      <th>3</th>\n",
       "      <td>2021-09-19 23:57:16+00:00</td>\n",
       "      <td>Total Returns over the last 10 Years...\\nBitco...</td>\n",
       "    </tr>\n",
       "    <tr>\n",
       "      <th>4</th>\n",
       "      <td>2021-09-19 23:57:13+00:00</td>\n",
       "      <td>BTC Sentiment (Price $47300)\\n\\nWhat's next fo...</td>\n",
       "    </tr>\n",
       "    <tr>\n",
       "      <th>...</th>\n",
       "      <td>...</td>\n",
       "      <td>...</td>\n",
       "    </tr>\n",
       "    <tr>\n",
       "      <th>7996</th>\n",
       "      <td>2021-09-14 20:09:38+00:00</td>\n",
       "      <td>$AAPL event was weak. \\n\\nI see a Continued Se...</td>\n",
       "    </tr>\n",
       "    <tr>\n",
       "      <th>7997</th>\n",
       "      <td>2021-09-14 20:09:27+00:00</td>\n",
       "      <td>Apple Stumbles on September Announcement Event...</td>\n",
       "    </tr>\n",
       "    <tr>\n",
       "      <th>7998</th>\n",
       "      <td>2021-09-14 20:09:17+00:00</td>\n",
       "      <td>Did you watch the $AAPL keynote? 🤩</td>\n",
       "    </tr>\n",
       "    <tr>\n",
       "      <th>7999</th>\n",
       "      <td>2021-09-14 20:09:14+00:00</td>\n",
       "      <td>$AAPL Flushed lower out of the flag and bounce...</td>\n",
       "    </tr>\n",
       "    <tr>\n",
       "      <th>8000</th>\n",
       "      <td>2021-09-14 20:09:14+00:00</td>\n",
       "      <td>$PTON (-2.70%) off the $AAPL fitness presentat...</td>\n",
       "    </tr>\n",
       "  </tbody>\n",
       "</table>\n",
       "<p>8001 rows × 2 columns</p>\n",
       "</div>"
      ],
      "text/plain": [
       "                      Datetime  \\\n",
       "0    2021-09-19 23:59:31+00:00   \n",
       "1    2021-09-19 23:58:38+00:00   \n",
       "2    2021-09-19 23:57:21+00:00   \n",
       "3    2021-09-19 23:57:16+00:00   \n",
       "4    2021-09-19 23:57:13+00:00   \n",
       "...                        ...   \n",
       "7996 2021-09-14 20:09:38+00:00   \n",
       "7997 2021-09-14 20:09:27+00:00   \n",
       "7998 2021-09-14 20:09:17+00:00   \n",
       "7999 2021-09-14 20:09:14+00:00   \n",
       "8000 2021-09-14 20:09:14+00:00   \n",
       "\n",
       "                                                   Text  \n",
       "0     $ETSY One of the stronger names over the past ...  \n",
       "1     @rhemrajani9 @Investing_Lion $AAPL, $SE, $PANW...  \n",
       "2     $TSLA Getting close to another test at 765 res...  \n",
       "3     Total Returns over the last 10 Years...\\nBitco...  \n",
       "4     BTC Sentiment (Price $47300)\\n\\nWhat's next fo...  \n",
       "...                                                 ...  \n",
       "7996  $AAPL event was weak. \\n\\nI see a Continued Se...  \n",
       "7997  Apple Stumbles on September Announcement Event...  \n",
       "7998                 Did you watch the $AAPL keynote? 🤩  \n",
       "7999  $AAPL Flushed lower out of the flag and bounce...  \n",
       "8000  $PTON (-2.70%) off the $AAPL fitness presentat...  \n",
       "\n",
       "[8001 rows x 2 columns]"
      ]
     },
     "metadata": {},
     "execution_count": 11
    }
   ],
   "metadata": {}
  },
  {
   "cell_type": "code",
   "execution_count": 16,
   "source": [
    "# Export dataframe into a CSV\r\n",
    "tweet_df.to_csv('F:/Technocolabs intern/text-query-tweets.csv', sep=',', index=False)"
   ],
   "outputs": [],
   "metadata": {}
  }
 ],
 "metadata": {
  "orig_nbformat": 4,
  "language_info": {
   "name": "python",
   "version": "3.8.8",
   "mimetype": "text/x-python",
   "codemirror_mode": {
    "name": "ipython",
    "version": 3
   },
   "pygments_lexer": "ipython3",
   "nbconvert_exporter": "python",
   "file_extension": ".py"
  },
  "kernelspec": {
   "name": "python3",
   "display_name": "Python 3.8.8 64-bit ('base': conda)"
  },
  "interpreter": {
   "hash": "8b63279ac8fefb432e475602d0afd7e5f44576dde42a2b22fd677197e80837b9"
  }
 },
 "nbformat": 4,
 "nbformat_minor": 2
}